{
 "cells": [
  {
   "cell_type": "code",
   "execution_count": 1,
   "id": "71f428f7-4af5-447b-b359-4207c518973e",
   "metadata": {},
   "outputs": [
    {
     "data": {
      "text/plain": [
       "<contextlib.ExitStack at 0x1256f87f830>"
      ]
     },
     "execution_count": 1,
     "metadata": {},
     "output_type": "execute_result"
    }
   ],
   "source": [
    "import torch\n",
    "import torch.nn as nn\n",
    "import torch.optim as optim\n",
    "from torch.optim import lr_scheduler\n",
    "import torch.backends.cudnn as cudnn\n",
    "import numpy as np\n",
    "import torchvision\n",
    "from torchvision import datasets, models, transforms\n",
    "import matplotlib.pyplot as plt\n",
    "import time\n",
    "import os\n",
    "from PIL import Image\n",
    "from tempfile import TemporaryDirectory\n",
    "from collections import OrderedDict\n",
    "from tqdm import tqdm\n",
    "import datetime\n",
    "\n",
    "cudnn.benchmark = True\n",
    "plt.ion()   # interactive mode"
   ]
  },
  {
   "cell_type": "code",
   "execution_count": 2,
   "id": "d77da779-2f3f-423d-ad7d-c35b64bc62b1",
   "metadata": {},
   "outputs": [
    {
     "name": "stdout",
     "output_type": "stream",
     "text": [
      "288\n"
     ]
    }
   ],
   "source": [
    "num = 0\n",
    "for filename in os.listdir('D:/data2'):\n",
    "    entries = os.listdir('D:/data2/' + filename)\n",
    "    # print(filename)\n",
    "    num += len(entries)\n",
    "print(num)"
   ]
  },
  {
   "cell_type": "code",
   "execution_count": 3,
   "id": "55933d51-bab4-4b0b-8cbb-ac84a5b46b91",
   "metadata": {},
   "outputs": [
    {
     "data": {
      "text/plain": [
       "7"
      ]
     },
     "execution_count": 3,
     "metadata": {},
     "output_type": "execute_result"
    }
   ],
   "source": [
    "dataset = datasets.ImageFolder('D:/data', transform=transforms.Compose([\n",
    "        # transforms.Resize((1280, 1024)),\n",
    "        transforms.Resize((644, 644)),\n",
    "        transforms.ToTensor(),\n",
    "        transforms.Normalize([0.485, 0.456, 0.406], [0.229, 0.224, 0.225])\n",
    "    ]))\n",
    "class_names = dataset.classes\n",
    "len(class_names)"
   ]
  },
  {
   "cell_type": "code",
   "execution_count": 4,
   "id": "96b1b816-76e8-4e8f-a658-b626a8908e0f",
   "metadata": {},
   "outputs": [],
   "source": [
    "trainds, valds, testds = torch.utils.data.random_split(dataset, [0.4, 0.3, 0.3], generator=torch.Generator().manual_seed(15275))\n",
    "\n",
    "dataloaders = {'train': torch.utils.data.DataLoader(trainds, batch_size=32,\n",
    "                                             shuffle=True, num_workers=16), \n",
    "               'val': torch.utils.data.DataLoader(valds, batch_size=32,\n",
    "                                             shuffle=True, num_workers=16), \n",
    "               'test': torch.utils.data.DataLoader(testds, batch_size=32,\n",
    "                                             shuffle=True, num_workers=16)}\n",
    "\n",
    "dataset_sizes = {'train': len(trainds), \n",
    "               'val': len(valds), \n",
    "               'test': len(testds)}\n",
    "\n",
    "device = torch.device(\"cuda:0\" if torch.cuda.is_available() else \"cpu\")"
   ]
  },
  {
   "cell_type": "code",
   "execution_count": 8,
   "id": "817a53d0-1ec1-4fdb-be2b-8f906cf9b0e2",
   "metadata": {},
   "outputs": [
    {
     "data": {
      "text/plain": [
       "7"
      ]
     },
     "execution_count": 8,
     "metadata": {},
     "output_type": "execute_result"
    }
   ],
   "source": [
    "len(class_names)"
   ]
  },
  {
   "cell_type": "code",
   "execution_count": 9,
   "id": "2acaa5f0-1159-482a-9d5d-7277fb1d433d",
   "metadata": {},
   "outputs": [],
   "source": [
    "model_ft = models.resnet50(weights='IMAGENET1K_V1')\n",
    "# Here the size of each output sample is set to 5.\n",
    "# Alternatively, it can be generalized to ``nn.Linear(num_ftrs, len(class_names))``.\n",
    "model_ft.fc = nn.Linear(2048, len(class_names))\n",
    "\n",
    "model_ft = model_ft.to(device)\n",
    "\n",
    "criterion = nn.CrossEntropyLoss()\n",
    "\n",
    "# Observe that all parameters are being optimized\n",
    "#optimizer_ft = optim.SGD(model_ft.parameters(), lr=0.001, momentum=0.9)\n",
    "optimizer_ft = optim.Adam(model_ft.parameters(), lr=0.001)\n",
    "\n",
    "# Decay LR by a factor of 0.1 every 7 epochs\n",
    "exp_lr_scheduler = lr_scheduler.StepLR(optimizer_ft, step_size=7, gamma=0.1)"
   ]
  },
  {
   "cell_type": "code",
   "execution_count": 10,
   "id": "649eaf6a-b9b7-457b-8f5a-dd19d04713c3",
   "metadata": {},
   "outputs": [],
   "source": [
    "conf_matrix = torch.zeros(len(class_names), len(class_names))\n",
    "\n",
    "def test_model(model, loss_fn):\n",
    "    # Set the model to evaluation mode - important for batch normalization and dropout layers\n",
    "    # Unnecessary in this situation but added for best practices\n",
    "    model.eval()\n",
    "    size = len(testds)\n",
    "    correct = 0.0\n",
    "\n",
    "    # Evaluating the model with torch.no_grad() ensures that no gradients are computed during test mode\n",
    "    # also serves to reduce unnecessary gradient computations and memory usage for tensors with requires_grad=True\n",
    "    with torch.no_grad():\n",
    "        for X, y in dataloaders['test']:\n",
    "            X, y= X.to(device), y.to(device)\n",
    "            outputs = model(X)\n",
    "            _, preds = torch.max(outputs, 1)\n",
    "            # print('===================')\n",
    "            # print(preds)\n",
    "            # print(y.data)\n",
    "            correct += torch.sum(preds == y.data)\n",
    "            # 更新混淆矩阵\n",
    "            for t, p in zip(y, preds):\n",
    "                conf_matrix[t, p] += 1\n",
    "\n",
    "    correct /= size\n",
    "    print(f\"Test Error: \\n Accuracy: {(100*correct):>0.1f}%\")"
   ]
  },
  {
   "cell_type": "code",
   "execution_count": 11,
   "id": "5a5cc4c5-0c26-4ad1-aaa5-464231e7677f",
   "metadata": {},
   "outputs": [],
   "source": [
    "# torch.save(model_ft.state_dict(), './pytorch-resnet50-91.9')"
   ]
  },
  {
   "cell_type": "code",
   "execution_count": 12,
   "id": "c16324f9-7b06-4df9-b6b1-1175775f0392",
   "metadata": {},
   "outputs": [],
   "source": [
    "model_test = models.resnet50(weights='IMAGENET1K_V1')\n",
    "# Here the size of each output sample is set to 5.\n",
    "# Alternatively, it can be generalized to ``nn.Linear(num_ftrs, len(class_names))``.\n",
    "model_test.fc = nn.Linear(2048, len(class_names))\n",
    "\n",
    "model_test = model_test.to(device)\n",
    "\n",
    "criterion = nn.CrossEntropyLoss()"
   ]
  },
  {
   "cell_type": "code",
   "execution_count": 13,
   "id": "41bc4675-81d7-4b9b-b265-deaecb56e3ee",
   "metadata": {},
   "outputs": [
    {
     "data": {
      "text/plain": [
       "<All keys matched successfully>"
      ]
     },
     "execution_count": 13,
     "metadata": {},
     "output_type": "execute_result"
    }
   ],
   "source": [
    "model_test.load_state_dict(torch.load('./pytorch-resnet50-91.9'))"
   ]
  },
  {
   "cell_type": "code",
   "execution_count": 14,
   "id": "d84cea75-a406-4a6b-be67-f4030a6fdd74",
   "metadata": {},
   "outputs": [
    {
     "name": "stdout",
     "output_type": "stream",
     "text": [
      "Test Error: \n",
      " Accuracy: 91.9%\n",
      "tensor([[ 8.,  0.,  0.,  0.,  1.,  0.,  0.],\n",
      "        [ 0., 11.,  0.,  0.,  0.,  0.,  0.],\n",
      "        [ 0.,  0.,  7.,  0.,  0.,  0.,  0.],\n",
      "        [ 0.,  0.,  0.,  6.,  1.,  0.,  0.],\n",
      "        [ 0.,  1.,  0.,  0.,  8.,  1.,  0.],\n",
      "        [ 0.,  1.,  0.,  0.,  0.,  7.,  1.],\n",
      "        [ 0.,  1.,  0.,  0.,  0.,  0., 32.]])\n"
     ]
    }
   ],
   "source": [
    "test_model(model_test, criterion)\n",
    "print(conf_matrix)"
   ]
  }
 ],
 "metadata": {
  "kernelspec": {
   "display_name": "Python 3 (ipykernel)",
   "language": "python",
   "name": "python3"
  },
  "language_info": {
   "codemirror_mode": {
    "name": "ipython",
    "version": 3
   },
   "file_extension": ".py",
   "mimetype": "text/x-python",
   "name": "python",
   "nbconvert_exporter": "python",
   "pygments_lexer": "ipython3",
   "version": "3.12.3"
  }
 },
 "nbformat": 4,
 "nbformat_minor": 5
}
