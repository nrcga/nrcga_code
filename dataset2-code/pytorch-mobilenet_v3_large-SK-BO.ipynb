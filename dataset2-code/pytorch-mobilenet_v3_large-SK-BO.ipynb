{
 "cells": [
  {
   "cell_type": "code",
   "execution_count": 1,
   "id": "71f428f7-4af5-447b-b359-4207c518973e",
   "metadata": {},
   "outputs": [
    {
     "data": {
      "text/plain": [
       "<contextlib.ExitStack at 0x22ce3ac4380>"
      ]
     },
     "execution_count": 1,
     "metadata": {},
     "output_type": "execute_result"
    }
   ],
   "source": [
    "import torch\n",
    "import torch.nn as nn\n",
    "import torch.optim as optim\n",
    "from torch.optim import lr_scheduler\n",
    "import torch.backends.cudnn as cudnn\n",
    "import numpy as np\n",
    "import torchvision\n",
    "from torchvision import datasets, models, transforms\n",
    "import matplotlib.pyplot as plt\n",
    "import time\n",
    "import os\n",
    "from PIL import Image\n",
    "from tempfile import TemporaryDirectory\n",
    "from collections import OrderedDict\n",
    "from tqdm import tqdm\n",
    "import datetime\n",
    "\n",
    "cudnn.benchmark = True\n",
    "plt.ion()   # interactive mode"
   ]
  },
  {
   "cell_type": "code",
   "execution_count": 2,
   "id": "55933d51-bab4-4b0b-8cbb-ac84a5b46b91",
   "metadata": {},
   "outputs": [
    {
     "data": {
      "text/plain": [
       "7"
      ]
     },
     "execution_count": 2,
     "metadata": {},
     "output_type": "execute_result"
    }
   ],
   "source": [
    "dataset = datasets.ImageFolder('D:/data2', transform=transforms.Compose([\n",
    "        transforms.Resize((644, 644)),\n",
    "        transforms.ToTensor(),\n",
    "        transforms.Normalize([0.485, 0.456, 0.406], [0.229, 0.224, 0.225])\n",
    "    ]))\n",
    "class_names = dataset.classes\n",
    "len(class_names)"
   ]
  },
  {
   "cell_type": "code",
   "execution_count": 3,
   "id": "96b1b816-76e8-4e8f-a658-b626a8908e0f",
   "metadata": {},
   "outputs": [],
   "source": [
    "trainds, valds, testds = torch.utils.data.random_split(dataset, [0.4, 0.3, 0.3], generator=torch.Generator().manual_seed(15275))\n",
    "\n",
    "dataloaders = {'train': torch.utils.data.DataLoader(trainds, batch_size=32,\n",
    "                                             shuffle=True, num_workers=16), \n",
    "               'val': torch.utils.data.DataLoader(valds, batch_size=32,\n",
    "                                             shuffle=True, num_workers=16), \n",
    "               'test': torch.utils.data.DataLoader(testds, batch_size=32,\n",
    "                                             shuffle=True, num_workers=16)}\n",
    "\n",
    "dataset_sizes = {'train': len(trainds), \n",
    "               'val': len(valds), \n",
    "               'test': len(testds)}\n",
    "\n",
    "device = torch.device(\"cuda:0\" if torch.cuda.is_available() else \"cpu\")"
   ]
  },
  {
   "cell_type": "code",
   "execution_count": 7,
   "id": "817a53d0-1ec1-4fdb-be2b-8f906cf9b0e2",
   "metadata": {},
   "outputs": [
    {
     "data": {
      "text/plain": [
       "7"
      ]
     },
     "execution_count": 7,
     "metadata": {},
     "output_type": "execute_result"
    }
   ],
   "source": [
    "len(class_names)"
   ]
  },
  {
   "cell_type": "code",
   "execution_count": 8,
   "id": "f9d6db72-d1d6-47b1-babe-6a2e653c92ec",
   "metadata": {},
   "outputs": [],
   "source": [
    "# def imshow(inp, title=None):\n",
    "#     \"\"\"Display image for Tensor.\"\"\"\n",
    "#     inp = inp.numpy().transpose((1, 2, 0))\n",
    "#     mean = np.array([0.485, 0.456, 0.406])\n",
    "#     std = np.array([0.229, 0.224, 0.225])\n",
    "#     inp = std * inp + mean\n",
    "#     inp = np.clip(inp, 0, 1)\n",
    "#     plt.imshow(inp)\n",
    "#     if title is not None:\n",
    "#         plt.title(title)\n",
    "#     plt.pause(0.001)  # pause a bit so that plots are updated\n",
    "\n",
    "\n",
    "# # Get a batch of training data\n",
    "# inputs, classes = next(iter(dataloaders['train']))\n",
    "\n",
    "# # Make a grid from batch\n",
    "# out = torchvision.utils.make_grid(inputs)\n",
    "\n",
    "# imshow(out, title=[class_names[x] for x in classes])"
   ]
  },
  {
   "cell_type": "code",
   "execution_count": 9,
   "id": "525261e6-ab4f-4fcd-826f-89c1eb402b11",
   "metadata": {},
   "outputs": [],
   "source": [
    "def train_model(model, criterion, optimizer, scheduler, num_epochs=25):\n",
    "    since = time.time()\n",
    "    train_loss = []\n",
    "    train_acc = []\n",
    "    valid_loss = []\n",
    "    valid_acc = []\n",
    "\n",
    "\n",
    "    # Create a temporary directory to save training checkpoints\n",
    "    with TemporaryDirectory() as tempdir:\n",
    "        best_model_params_path = os.path.join(tempdir, 'best_model_params.pt')\n",
    "\n",
    "        torch.save(model.state_dict(), best_model_params_path)\n",
    "        best_acc = 0.0\n",
    "\n",
    "        for epoch in range(num_epochs):\n",
    "            print(f'Epoch {epoch}/{num_epochs - 1}')\n",
    "            print('-' * 10)\n",
    "            print(datetime.datetime.now())\n",
    "\n",
    "            # Each epoch has a training and validation phase\n",
    "            for phase in ['train', 'val']:\n",
    "                if phase == 'train':\n",
    "                    model.train()  # Set model to training mode\n",
    "                else:\n",
    "                    model.eval()   # Set model to evaluate mode\n",
    "\n",
    "                running_loss = 0.0\n",
    "                running_corrects = 0\n",
    "\n",
    "                # Iterate over data.\n",
    "                for inputs, labels in tqdm(dataloaders[phase]):\n",
    "                    inputs = inputs.to(device)\n",
    "                    labels = labels.to(device)\n",
    "\n",
    "                    # zero the parameter gradients\n",
    "                    optimizer.zero_grad()\n",
    "\n",
    "                    # forward\n",
    "                    # track history if only in train\n",
    "                    with torch.set_grad_enabled(phase == 'train'):\n",
    "                        outputs = model(inputs)\n",
    "                        _, preds = torch.max(outputs, 1)\n",
    "                        loss = criterion(outputs, labels)\n",
    "\n",
    "                        # backward + optimize only if in training phase\n",
    "                        if phase == 'train':\n",
    "                            loss.backward()\n",
    "                            optimizer.step()\n",
    "\n",
    "                    # statistics\n",
    "                    running_loss += loss.item() * inputs.size(0)\n",
    "                    running_corrects += torch.sum(preds == labels.data)\n",
    "                if phase == 'train':\n",
    "                    scheduler.step()\n",
    "\n",
    "                epoch_loss = running_loss / dataset_sizes[phase]\n",
    "                epoch_acc = running_corrects.double() / dataset_sizes[phase]\n",
    "                if phase == 'train':\n",
    "                    train_loss.append(epoch_loss)\n",
    "                    train_acc.append(epoch_acc)\n",
    "                else:\n",
    "                    valid_loss.append(epoch_loss)\n",
    "                    valid_acc.append(epoch_acc)\n",
    "\n",
    "                print(f'{phase} Loss: {epoch_loss:.4f} Acc: {epoch_acc:.4f}')\n",
    "\n",
    "                # deep copy the model\n",
    "                if phase == 'val' and epoch_acc > best_acc:\n",
    "                    best_acc = epoch_acc\n",
    "                    torch.save(model.state_dict(), best_model_params_path)\n",
    "\n",
    "            print()\n",
    "\n",
    "        time_elapsed = time.time() - since\n",
    "        print(f'Training complete in {time_elapsed // 60:.0f}m {time_elapsed % 60:.0f}s')\n",
    "        print(f'Best val Acc: {best_acc:4f}')\n",
    "\n",
    "        # load best model weights\n",
    "        model.load_state_dict(torch.load(best_model_params_path))\n",
    "    return model, train_loss, train_acc, valid_loss, valid_acc"
   ]
  },
  {
   "cell_type": "code",
   "execution_count": 10,
   "id": "ebb83eea-09e0-4ebd-9f91-4aa59b9652d9",
   "metadata": {},
   "outputs": [],
   "source": [
    "class SKAttention(nn.Module):\n",
    "    def __init__(self, channel=512, kernels=[1, 3, 5, 7], reduction=16, group=1, L=32):\n",
    "        super().__init__()\n",
    "        self.d = max(L, channel // reduction)\n",
    "        self.convs = nn.ModuleList([])\n",
    "        for k in kernels:\n",
    "            self.convs.append(\n",
    "                nn.Sequential(OrderedDict([\n",
    "                    ('conv', nn.Conv2d(channel, channel, kernel_size=k, padding=k // 2, groups=group)),\n",
    "                    ('bn', nn.BatchNorm2d(channel)),\n",
    "                    ('relu', nn.ReLU())\n",
    "                ]))\n",
    "            )\n",
    "        self.fc = nn.Linear(channel, self.d)\n",
    "        self.fcs = nn.ModuleList([])\n",
    "        for i in range(len(kernels)):\n",
    "            self.fcs.append(nn.Linear(self.d, channel))\n",
    "        self.softmax = nn.Softmax(dim=0)\n",
    "\n",
    "    def forward(self, x):\n",
    "        bs, c, _, _ = x.size()\n",
    "        conv_outs = []\n",
    "        ### split\n",
    "        for conv in self.convs:\n",
    "            conv_outs.append(conv(x))\n",
    "        feats = torch.stack(conv_outs, 0)  # k,bs,channel,h,w\n",
    "\n",
    "        ### fuse\n",
    "        U = sum(conv_outs)  # bs,c,h,w\n",
    "\n",
    "        ### reduction channel\n",
    "        S = U.mean(-1).mean(-1)  # bs,c\n",
    "        Z = self.fc(S)  # bs,d\n",
    "\n",
    "        ### calculate attention weight\n",
    "        weights = []\n",
    "        for fc in self.fcs:\n",
    "            weight = fc(Z)\n",
    "            weights.append(weight.view(bs, c, 1, 1))  # bs,channel\n",
    "        attention_weughts = torch.stack(weights, 0)  # k,bs,channel,1,1\n",
    "        attention_weughts = self.softmax(attention_weughts)  # k,bs,channel,1,1\n",
    "\n",
    "        ### fuse\n",
    "        V = (attention_weughts * feats).sum(0)\n",
    "        return V"
   ]
  },
  {
   "cell_type": "code",
   "execution_count": 11,
   "id": "2acaa5f0-1159-482a-9d5d-7277fb1d433d",
   "metadata": {},
   "outputs": [],
   "source": [
    "model_ft = models.mobilenet_v3_large(weights='IMAGENET1K_V2', pretrained=True)\n",
    "num_ftrs = model_ft.classifier[3].out_features\n",
    "# Here the size of each output sample is set to 5.\n",
    "# Alternatively, it can be generalized to ``nn.Linear(num_ftrs, len(class_names))``.\n",
    "model_ft.fc = nn.Linear(num_ftrs, len(class_names))\n",
    "\n",
    "model_ft = model_ft.to(device)\n",
    "\n",
    "criterion = nn.CrossEntropyLoss()\n",
    "\n",
    "# Observe that all parameters are being optimized\n",
    "#optimizer_ft = optim.SGD(model_ft.parameters(), lr=0.001, momentum=0.9)\n",
    "optimizer_ft = optim.Adam(model_ft.parameters(), lr=0.002)\n",
    "\n",
    "# Decay LR by a factor of 0.1 every 7 epochs\n",
    "exp_lr_scheduler = lr_scheduler.StepLR(optimizer_ft, step_size=7, gamma=0.1)"
   ]
  },
  {
   "cell_type": "code",
   "execution_count": 12,
   "id": "87b6f0d5-b5c1-44a8-aba8-c3a6adb8b59d",
   "metadata": {},
   "outputs": [],
   "source": [
    "model_ft.features[14].block[2] = SKAttention(channel=960, reduction=8)\n",
    "model_ft.features[15].block[2] = SKAttention(channel=960, reduction=8)"
   ]
  },
  {
   "cell_type": "code",
   "execution_count": 16,
   "id": "124d3ad5-d7f7-4767-b25c-3d3bf9921710",
   "metadata": {
    "scrolled": true
   },
   "outputs": [
    {
     "name": "stdout",
     "output_type": "stream",
     "text": [
      "features.0.0.weight will be updated.\n",
      "features.0.1.weight will be updated.\n",
      "features.0.1.bias will be updated.\n",
      "features.1.block.0.0.weight will be updated.\n",
      "features.1.block.0.1.weight will be updated.\n",
      "features.1.block.0.1.bias will be updated.\n",
      "features.1.block.1.0.weight will be updated.\n",
      "features.1.block.1.1.weight will be updated.\n",
      "features.1.block.1.1.bias will be updated.\n",
      "features.2.block.0.0.weight will be updated.\n",
      "features.2.block.0.1.weight will be updated.\n",
      "features.2.block.0.1.bias will be updated.\n",
      "features.2.block.1.0.weight will be updated.\n",
      "features.2.block.1.1.weight will be updated.\n",
      "features.2.block.1.1.bias will be updated.\n",
      "features.2.block.2.0.weight will be updated.\n",
      "features.2.block.2.1.weight will be updated.\n",
      "features.2.block.2.1.bias will be updated.\n",
      "features.3.block.0.0.weight will be updated.\n",
      "features.3.block.0.1.weight will be updated.\n",
      "features.3.block.0.1.bias will be updated.\n",
      "features.3.block.1.0.weight will be updated.\n",
      "features.3.block.1.1.weight will be updated.\n",
      "features.3.block.1.1.bias will be updated.\n",
      "features.3.block.2.0.weight will be updated.\n",
      "features.3.block.2.1.weight will be updated.\n",
      "features.3.block.2.1.bias will be updated.\n",
      "features.4.block.0.0.weight will be updated.\n",
      "features.4.block.0.1.weight will be updated.\n",
      "features.4.block.0.1.bias will be updated.\n",
      "features.4.block.1.0.weight will be updated.\n",
      "features.4.block.1.1.weight will be updated.\n",
      "features.4.block.1.1.bias will be updated.\n",
      "features.4.block.2.fc1.weight will be updated.\n",
      "features.4.block.2.fc1.bias will be updated.\n",
      "features.4.block.2.fc2.weight will be updated.\n",
      "features.4.block.2.fc2.bias will be updated.\n",
      "features.4.block.3.0.weight will be updated.\n",
      "features.4.block.3.1.weight will be updated.\n",
      "features.4.block.3.1.bias will be updated.\n",
      "features.5.block.0.0.weight will be updated.\n",
      "features.5.block.0.1.weight will be updated.\n",
      "features.5.block.0.1.bias will be updated.\n",
      "features.5.block.1.0.weight will be updated.\n",
      "features.5.block.1.1.weight will be updated.\n",
      "features.5.block.1.1.bias will be updated.\n",
      "features.5.block.2.fc1.weight will be updated.\n",
      "features.5.block.2.fc1.bias will be updated.\n",
      "features.5.block.2.fc2.weight will be updated.\n",
      "features.5.block.2.fc2.bias will be updated.\n",
      "features.5.block.3.0.weight will be updated.\n",
      "features.5.block.3.1.weight will be updated.\n",
      "features.5.block.3.1.bias will be updated.\n",
      "features.6.block.0.0.weight will be updated.\n",
      "features.6.block.0.1.weight will be updated.\n",
      "features.6.block.0.1.bias will be updated.\n",
      "features.6.block.1.0.weight will be updated.\n",
      "features.6.block.1.1.weight will be updated.\n",
      "features.6.block.1.1.bias will be updated.\n",
      "features.6.block.2.fc1.weight will be updated.\n",
      "features.6.block.2.fc1.bias will be updated.\n",
      "features.6.block.2.fc2.weight will be updated.\n",
      "features.6.block.2.fc2.bias will be updated.\n",
      "features.6.block.3.0.weight will be updated.\n",
      "features.6.block.3.1.weight will be updated.\n",
      "features.6.block.3.1.bias will be updated.\n",
      "features.7.block.0.0.weight will be updated.\n",
      "features.7.block.0.1.weight will be updated.\n",
      "features.7.block.0.1.bias will be updated.\n",
      "features.7.block.1.0.weight will be updated.\n",
      "features.7.block.1.1.weight will be updated.\n",
      "features.7.block.1.1.bias will be updated.\n",
      "features.7.block.2.0.weight will be updated.\n",
      "features.7.block.2.1.weight will be updated.\n",
      "features.7.block.2.1.bias will be updated.\n",
      "features.8.block.0.0.weight will be updated.\n",
      "features.8.block.0.1.weight will be updated.\n",
      "features.8.block.0.1.bias will be updated.\n",
      "features.8.block.1.0.weight will be updated.\n",
      "features.8.block.1.1.weight will be updated.\n",
      "features.8.block.1.1.bias will be updated.\n",
      "features.8.block.2.0.weight will be updated.\n",
      "features.8.block.2.1.weight will be updated.\n",
      "features.8.block.2.1.bias will be updated.\n",
      "features.9.block.0.0.weight will be updated.\n",
      "features.9.block.0.1.weight will be updated.\n",
      "features.9.block.0.1.bias will be updated.\n",
      "features.9.block.1.0.weight will be updated.\n",
      "features.9.block.1.1.weight will be updated.\n",
      "features.9.block.1.1.bias will be updated.\n",
      "features.9.block.2.0.weight will be updated.\n",
      "features.9.block.2.1.weight will be updated.\n",
      "features.9.block.2.1.bias will be updated.\n",
      "features.10.block.0.0.weight will be updated.\n",
      "features.10.block.0.1.weight will be updated.\n",
      "features.10.block.0.1.bias will be updated.\n",
      "features.10.block.1.0.weight will be updated.\n",
      "features.10.block.1.1.weight will be updated.\n",
      "features.10.block.1.1.bias will be updated.\n",
      "features.10.block.2.0.weight will be updated.\n",
      "features.10.block.2.1.weight will be updated.\n",
      "features.10.block.2.1.bias will be updated.\n",
      "features.11.block.0.0.weight will be updated.\n",
      "features.11.block.0.1.weight will be updated.\n",
      "features.11.block.0.1.bias will be updated.\n",
      "features.11.block.1.0.weight will be updated.\n",
      "features.11.block.1.1.weight will be updated.\n",
      "features.11.block.1.1.bias will be updated.\n",
      "features.11.block.2.fc1.weight will be updated.\n",
      "features.11.block.2.fc1.bias will be updated.\n",
      "features.11.block.2.fc2.weight will be updated.\n",
      "features.11.block.2.fc2.bias will be updated.\n",
      "features.11.block.3.0.weight will be updated.\n",
      "features.11.block.3.1.weight will be updated.\n",
      "features.11.block.3.1.bias will be updated.\n",
      "features.12.block.0.0.weight will be updated.\n",
      "features.12.block.0.1.weight will be updated.\n",
      "features.12.block.0.1.bias will be updated.\n",
      "features.12.block.1.0.weight will be updated.\n",
      "features.12.block.1.1.weight will be updated.\n",
      "features.12.block.1.1.bias will be updated.\n",
      "features.12.block.2.fc1.weight will be updated.\n",
      "features.12.block.2.fc1.bias will be updated.\n",
      "features.12.block.2.fc2.weight will be updated.\n",
      "features.12.block.2.fc2.bias will be updated.\n",
      "features.12.block.3.0.weight will be updated.\n",
      "features.12.block.3.1.weight will be updated.\n",
      "features.12.block.3.1.bias will be updated.\n",
      "features.13.block.0.0.weight will be updated.\n",
      "features.13.block.0.1.weight will be updated.\n",
      "features.13.block.0.1.bias will be updated.\n",
      "features.13.block.1.0.weight will be updated.\n",
      "features.13.block.1.1.weight will be updated.\n",
      "features.13.block.1.1.bias will be updated.\n",
      "features.13.block.2.fc1.weight will be updated.\n",
      "features.13.block.2.fc1.bias will be updated.\n",
      "features.13.block.2.fc2.weight will be updated.\n",
      "features.13.block.2.fc2.bias will be updated.\n",
      "features.13.block.3.0.weight will be updated.\n",
      "features.13.block.3.1.weight will be updated.\n",
      "features.13.block.3.1.bias will be updated.\n",
      "features.14.block.0.0.weight will be updated.\n",
      "features.14.block.0.1.weight will be updated.\n",
      "features.14.block.0.1.bias will be updated.\n",
      "features.14.block.1.0.weight will be updated.\n",
      "features.14.block.1.1.weight will be updated.\n",
      "features.14.block.1.1.bias will be updated.\n",
      "features.14.block.2.convs.0.conv.weight will be updated.\n",
      "features.14.block.2.convs.0.conv.bias will be updated.\n",
      "features.14.block.2.convs.0.bn.weight will be updated.\n",
      "features.14.block.2.convs.0.bn.bias will be updated.\n",
      "features.14.block.2.convs.1.conv.weight will be updated.\n",
      "features.14.block.2.convs.1.conv.bias will be updated.\n",
      "features.14.block.2.convs.1.bn.weight will be updated.\n",
      "features.14.block.2.convs.1.bn.bias will be updated.\n",
      "features.14.block.2.convs.2.conv.weight will be updated.\n",
      "features.14.block.2.convs.2.conv.bias will be updated.\n",
      "features.14.block.2.convs.2.bn.weight will be updated.\n",
      "features.14.block.2.convs.2.bn.bias will be updated.\n",
      "features.14.block.2.convs.3.conv.weight will be updated.\n",
      "features.14.block.2.convs.3.conv.bias will be updated.\n",
      "features.14.block.2.convs.3.bn.weight will be updated.\n",
      "features.14.block.2.convs.3.bn.bias will be updated.\n",
      "features.14.block.2.fc.weight will be updated.\n",
      "features.14.block.2.fc.bias will be updated.\n",
      "features.14.block.2.fcs.0.weight will be updated.\n",
      "features.14.block.2.fcs.0.bias will be updated.\n",
      "features.14.block.2.fcs.1.weight will be updated.\n",
      "features.14.block.2.fcs.1.bias will be updated.\n",
      "features.14.block.2.fcs.2.weight will be updated.\n",
      "features.14.block.2.fcs.2.bias will be updated.\n",
      "features.14.block.2.fcs.3.weight will be updated.\n",
      "features.14.block.2.fcs.3.bias will be updated.\n",
      "features.14.block.3.0.weight will be updated.\n",
      "features.14.block.3.1.weight will be updated.\n",
      "features.14.block.3.1.bias will be updated.\n",
      "features.15.block.0.0.weight will be updated.\n",
      "features.15.block.0.1.weight will be updated.\n",
      "features.15.block.0.1.bias will be updated.\n",
      "features.15.block.1.0.weight will be updated.\n",
      "features.15.block.1.1.weight will be updated.\n",
      "features.15.block.1.1.bias will be updated.\n",
      "features.15.block.2.convs.0.conv.weight will be updated.\n",
      "features.15.block.2.convs.0.conv.bias will be updated.\n",
      "features.15.block.2.convs.0.bn.weight will be updated.\n",
      "features.15.block.2.convs.0.bn.bias will be updated.\n",
      "features.15.block.2.convs.1.conv.weight will be updated.\n",
      "features.15.block.2.convs.1.conv.bias will be updated.\n",
      "features.15.block.2.convs.1.bn.weight will be updated.\n",
      "features.15.block.2.convs.1.bn.bias will be updated.\n",
      "features.15.block.2.convs.2.conv.weight will be updated.\n",
      "features.15.block.2.convs.2.conv.bias will be updated.\n",
      "features.15.block.2.convs.2.bn.weight will be updated.\n",
      "features.15.block.2.convs.2.bn.bias will be updated.\n",
      "features.15.block.2.convs.3.conv.weight will be updated.\n",
      "features.15.block.2.convs.3.conv.bias will be updated.\n",
      "features.15.block.2.convs.3.bn.weight will be updated.\n",
      "features.15.block.2.convs.3.bn.bias will be updated.\n",
      "features.15.block.2.fc.weight will be updated.\n",
      "features.15.block.2.fc.bias will be updated.\n",
      "features.15.block.2.fcs.0.weight will be updated.\n",
      "features.15.block.2.fcs.0.bias will be updated.\n",
      "features.15.block.2.fcs.1.weight will be updated.\n",
      "features.15.block.2.fcs.1.bias will be updated.\n",
      "features.15.block.2.fcs.2.weight will be updated.\n",
      "features.15.block.2.fcs.2.bias will be updated.\n",
      "features.15.block.2.fcs.3.weight will be updated.\n",
      "features.15.block.2.fcs.3.bias will be updated.\n",
      "features.15.block.3.0.weight will be updated.\n",
      "features.15.block.3.1.weight will be updated.\n",
      "features.15.block.3.1.bias will be updated.\n",
      "features.16.0.weight will be updated.\n",
      "features.16.1.weight will be updated.\n",
      "features.16.1.bias will be updated.\n",
      "classifier.0.weight will be updated.\n",
      "classifier.0.bias will be updated.\n",
      "classifier.3.weight will be updated.\n",
      "classifier.3.bias will be updated.\n",
      "fc.weight will be updated.\n",
      "fc.bias will be updated.\n"
     ]
    }
   ],
   "source": [
    "for name, param in model_ft.named_parameters():\n",
    "    if param.requires_grad:\n",
    "        print(f\"{name} will be updated.\")\n",
    "    else:\n",
    "        print(f\"{name} will not be updated.\")"
   ]
  },
  {
   "cell_type": "code",
   "execution_count": 17,
   "id": "c3046336-b9c0-434a-b64e-071c4469727f",
   "metadata": {
    "scrolled": true
   },
   "outputs": [
    {
     "name": "stdout",
     "output_type": "stream",
     "text": [
      "Epoch 0/69\n",
      "----------\n",
      "2025-03-05 21:15:19.973638\n"
     ]
    },
    {
     "name": "stderr",
     "output_type": "stream",
     "text": [
      "100%|████████████████████████████████████████████████████████████████████████████████████| 4/4 [02:39<00:00, 39.87s/it]\n"
     ]
    },
    {
     "name": "stdout",
     "output_type": "stream",
     "text": [
      "train Loss: 3.4740 Acc: 0.3966\n"
     ]
    },
    {
     "name": "stderr",
     "output_type": "stream",
     "text": [
      "100%|████████████████████████████████████████████████████████████████████████████████████| 3/3 [00:45<00:00, 15.13s/it]\n"
     ]
    },
    {
     "name": "stdout",
     "output_type": "stream",
     "text": [
      "val Loss: 4.2016 Acc: 0.0698\n",
      "\n",
      "Epoch 1/69\n",
      "----------\n",
      "2025-03-05 21:18:49.868963\n"
     ]
    },
    {
     "name": "stderr",
     "output_type": "stream",
     "text": [
      "100%|████████████████████████████████████████████████████████████████████████████████████| 4/4 [02:41<00:00, 40.27s/it]\n"
     ]
    },
    {
     "name": "stdout",
     "output_type": "stream",
     "text": [
      "train Loss: 0.3790 Acc: 0.9052\n"
     ]
    },
    {
     "name": "stderr",
     "output_type": "stream",
     "text": [
      "100%|████████████████████████████████████████████████████████████████████████████████████| 3/3 [00:42<00:00, 14.08s/it]\n"
     ]
    },
    {
     "name": "stdout",
     "output_type": "stream",
     "text": [
      "val Loss: 47.9368 Acc: 0.0698\n",
      "\n",
      "Epoch 2/69\n",
      "----------\n",
      "2025-03-05 21:22:13.212419\n"
     ]
    },
    {
     "name": "stderr",
     "output_type": "stream",
     "text": [
      "100%|████████████████████████████████████████████████████████████████████████████████████| 4/4 [02:27<00:00, 36.77s/it]\n"
     ]
    },
    {
     "name": "stdout",
     "output_type": "stream",
     "text": [
      "train Loss: 0.1581 Acc: 0.9569\n"
     ]
    },
    {
     "name": "stderr",
     "output_type": "stream",
     "text": [
      "100%|████████████████████████████████████████████████████████████████████████████████████| 3/3 [00:41<00:00, 13.80s/it]\n"
     ]
    },
    {
     "name": "stdout",
     "output_type": "stream",
     "text": [
      "val Loss: 41.1304 Acc: 0.0698\n",
      "\n",
      "Epoch 3/69\n",
      "----------\n",
      "2025-03-05 21:25:21.699547\n"
     ]
    },
    {
     "name": "stderr",
     "output_type": "stream",
     "text": [
      "100%|████████████████████████████████████████████████████████████████████████████████████| 4/4 [02:39<00:00, 39.81s/it]\n"
     ]
    },
    {
     "name": "stdout",
     "output_type": "stream",
     "text": [
      "train Loss: 0.3575 Acc: 0.9397\n"
     ]
    },
    {
     "name": "stderr",
     "output_type": "stream",
     "text": [
      "100%|████████████████████████████████████████████████████████████████████████████████████| 3/3 [00:41<00:00, 13.74s/it]\n"
     ]
    },
    {
     "name": "stdout",
     "output_type": "stream",
     "text": [
      "val Loss: 43.0773 Acc: 0.0698\n",
      "\n",
      "Epoch 4/69\n",
      "----------\n",
      "2025-03-05 21:28:42.152676\n"
     ]
    },
    {
     "name": "stderr",
     "output_type": "stream",
     "text": [
      "100%|████████████████████████████████████████████████████████████████████████████████████| 4/4 [02:30<00:00, 37.57s/it]\n"
     ]
    },
    {
     "name": "stdout",
     "output_type": "stream",
     "text": [
      "train Loss: 0.2335 Acc: 0.9310\n"
     ]
    },
    {
     "name": "stderr",
     "output_type": "stream",
     "text": [
      "100%|████████████████████████████████████████████████████████████████████████████████████| 3/3 [00:40<00:00, 13.44s/it]\n"
     ]
    },
    {
     "name": "stdout",
     "output_type": "stream",
     "text": [
      "val Loss: 64.6016 Acc: 0.0698\n",
      "\n",
      "Epoch 5/69\n",
      "----------\n",
      "2025-03-05 21:31:52.777298\n"
     ]
    },
    {
     "name": "stderr",
     "output_type": "stream",
     "text": [
      "100%|████████████████████████████████████████████████████████████████████████████████████| 4/4 [02:29<00:00, 37.32s/it]\n"
     ]
    },
    {
     "name": "stdout",
     "output_type": "stream",
     "text": [
      "train Loss: 0.5436 Acc: 0.8966\n"
     ]
    },
    {
     "name": "stderr",
     "output_type": "stream",
     "text": [
      "100%|████████████████████████████████████████████████████████████████████████████████████| 3/3 [00:41<00:00, 13.68s/it]\n"
     ]
    },
    {
     "name": "stdout",
     "output_type": "stream",
     "text": [
      "val Loss: 141.8050 Acc: 0.2907\n",
      "\n",
      "Epoch 6/69\n",
      "----------\n",
      "2025-03-05 21:35:08.215170\n"
     ]
    },
    {
     "name": "stderr",
     "output_type": "stream",
     "text": [
      "100%|████████████████████████████████████████████████████████████████████████████████████| 4/4 [02:39<00:00, 39.90s/it]\n"
     ]
    },
    {
     "name": "stdout",
     "output_type": "stream",
     "text": [
      "train Loss: 0.6805 Acc: 0.8879\n"
     ]
    },
    {
     "name": "stderr",
     "output_type": "stream",
     "text": [
      "100%|████████████████████████████████████████████████████████████████████████████████████| 3/3 [00:44<00:00, 14.72s/it]\n"
     ]
    },
    {
     "name": "stdout",
     "output_type": "stream",
     "text": [
      "val Loss: 154.3915 Acc: 0.1395\n",
      "\n",
      "Epoch 7/69\n",
      "----------\n",
      "2025-03-05 21:38:31.981850\n"
     ]
    },
    {
     "name": "stderr",
     "output_type": "stream",
     "text": [
      "100%|████████████████████████████████████████████████████████████████████████████████████| 4/4 [02:38<00:00, 39.56s/it]\n"
     ]
    },
    {
     "name": "stdout",
     "output_type": "stream",
     "text": [
      "train Loss: 0.2239 Acc: 0.9224\n"
     ]
    },
    {
     "name": "stderr",
     "output_type": "stream",
     "text": [
      "100%|████████████████████████████████████████████████████████████████████████████████████| 3/3 [00:45<00:00, 15.11s/it]\n"
     ]
    },
    {
     "name": "stdout",
     "output_type": "stream",
     "text": [
      "val Loss: 116.6630 Acc: 0.1395\n",
      "\n",
      "Epoch 8/69\n",
      "----------\n",
      "2025-03-05 21:41:55.592811\n"
     ]
    },
    {
     "name": "stderr",
     "output_type": "stream",
     "text": [
      "100%|████████████████████████████████████████████████████████████████████████████████████| 4/4 [02:40<00:00, 40.24s/it]\n"
     ]
    },
    {
     "name": "stdout",
     "output_type": "stream",
     "text": [
      "train Loss: 0.1419 Acc: 0.9310\n"
     ]
    },
    {
     "name": "stderr",
     "output_type": "stream",
     "text": [
      "100%|████████████████████████████████████████████████████████████████████████████████████| 3/3 [00:42<00:00, 14.11s/it]\n"
     ]
    },
    {
     "name": "stdout",
     "output_type": "stream",
     "text": [
      "val Loss: 90.5098 Acc: 0.1395\n",
      "\n",
      "Epoch 9/69\n",
      "----------\n",
      "2025-03-05 21:45:18.890369\n"
     ]
    },
    {
     "name": "stderr",
     "output_type": "stream",
     "text": [
      "100%|████████████████████████████████████████████████████████████████████████████████████| 4/4 [02:26<00:00, 36.52s/it]\n"
     ]
    },
    {
     "name": "stdout",
     "output_type": "stream",
     "text": [
      "train Loss: 0.6524 Acc: 0.9569\n"
     ]
    },
    {
     "name": "stderr",
     "output_type": "stream",
     "text": [
      "100%|████████████████████████████████████████████████████████████████████████████████████| 3/3 [00:44<00:00, 14.84s/it]\n"
     ]
    },
    {
     "name": "stdout",
     "output_type": "stream",
     "text": [
      "val Loss: 70.6997 Acc: 0.1395\n",
      "\n",
      "Epoch 10/69\n",
      "----------\n",
      "2025-03-05 21:48:29.499891\n"
     ]
    },
    {
     "name": "stderr",
     "output_type": "stream",
     "text": [
      "100%|████████████████████████████████████████████████████████████████████████████████████| 4/4 [02:29<00:00, 37.34s/it]\n"
     ]
    },
    {
     "name": "stdout",
     "output_type": "stream",
     "text": [
      "train Loss: 0.5185 Acc: 0.9224\n"
     ]
    },
    {
     "name": "stderr",
     "output_type": "stream",
     "text": [
      "100%|████████████████████████████████████████████████████████████████████████████████████| 3/3 [00:43<00:00, 14.65s/it]\n"
     ]
    },
    {
     "name": "stdout",
     "output_type": "stream",
     "text": [
      "val Loss: 57.8243 Acc: 0.1395\n",
      "\n",
      "Epoch 11/69\n",
      "----------\n",
      "2025-03-05 21:51:42.843683\n"
     ]
    },
    {
     "name": "stderr",
     "output_type": "stream",
     "text": [
      "100%|████████████████████████████████████████████████████████████████████████████████████| 4/4 [02:38<00:00, 39.54s/it]\n"
     ]
    },
    {
     "name": "stdout",
     "output_type": "stream",
     "text": [
      "train Loss: 0.0390 Acc: 0.9828\n"
     ]
    },
    {
     "name": "stderr",
     "output_type": "stream",
     "text": [
      "100%|████████████████████████████████████████████████████████████████████████████████████| 3/3 [00:44<00:00, 14.87s/it]\n"
     ]
    },
    {
     "name": "stdout",
     "output_type": "stream",
     "text": [
      "val Loss: 49.1848 Acc: 0.1512\n",
      "\n",
      "Epoch 12/69\n",
      "----------\n",
      "2025-03-05 21:55:05.611277\n"
     ]
    },
    {
     "name": "stderr",
     "output_type": "stream",
     "text": [
      "100%|████████████████████████████████████████████████████████████████████████████████████| 4/4 [02:38<00:00, 39.57s/it]\n"
     ]
    },
    {
     "name": "stdout",
     "output_type": "stream",
     "text": [
      "train Loss: 0.0151 Acc: 1.0000\n"
     ]
    },
    {
     "name": "stderr",
     "output_type": "stream",
     "text": [
      "100%|████████████████████████████████████████████████████████████████████████████████████| 3/3 [00:39<00:00, 13.33s/it]\n"
     ]
    },
    {
     "name": "stdout",
     "output_type": "stream",
     "text": [
      "val Loss: 42.5847 Acc: 0.1628\n",
      "\n",
      "Epoch 13/69\n",
      "----------\n",
      "2025-03-05 21:58:23.880566\n"
     ]
    },
    {
     "name": "stderr",
     "output_type": "stream",
     "text": [
      "100%|████████████████████████████████████████████████████████████████████████████████████| 4/4 [02:28<00:00, 37.00s/it]\n"
     ]
    },
    {
     "name": "stdout",
     "output_type": "stream",
     "text": [
      "train Loss: 0.0105 Acc: 1.0000\n"
     ]
    },
    {
     "name": "stderr",
     "output_type": "stream",
     "text": [
      "100%|████████████████████████████████████████████████████████████████████████████████████| 3/3 [00:40<00:00, 13.57s/it]\n"
     ]
    },
    {
     "name": "stdout",
     "output_type": "stream",
     "text": [
      "val Loss: 37.6290 Acc: 0.1628\n",
      "\n",
      "Epoch 14/69\n",
      "----------\n",
      "2025-03-05 22:01:32.616778\n"
     ]
    },
    {
     "name": "stderr",
     "output_type": "stream",
     "text": [
      "100%|████████████████████████████████████████████████████████████████████████████████████| 4/4 [02:27<00:00, 36.93s/it]\n"
     ]
    },
    {
     "name": "stdout",
     "output_type": "stream",
     "text": [
      "train Loss: 0.0198 Acc: 1.0000\n"
     ]
    },
    {
     "name": "stderr",
     "output_type": "stream",
     "text": [
      "100%|████████████████████████████████████████████████████████████████████████████████████| 3/3 [00:44<00:00, 14.76s/it]\n"
     ]
    },
    {
     "name": "stdout",
     "output_type": "stream",
     "text": [
      "val Loss: 34.1254 Acc: 0.1628\n",
      "\n",
      "Epoch 15/69\n",
      "----------\n",
      "2025-03-05 22:04:44.664377\n"
     ]
    },
    {
     "name": "stderr",
     "output_type": "stream",
     "text": [
      "100%|████████████████████████████████████████████████████████████████████████████████████| 4/4 [02:38<00:00, 39.51s/it]\n"
     ]
    },
    {
     "name": "stdout",
     "output_type": "stream",
     "text": [
      "train Loss: 0.0189 Acc: 0.9914\n"
     ]
    },
    {
     "name": "stderr",
     "output_type": "stream",
     "text": [
      "100%|████████████████████████████████████████████████████████████████████████████████████| 3/3 [00:40<00:00, 13.36s/it]\n"
     ]
    },
    {
     "name": "stdout",
     "output_type": "stream",
     "text": [
      "val Loss: 30.6785 Acc: 0.1628\n",
      "\n",
      "Epoch 16/69\n",
      "----------\n",
      "2025-03-05 22:08:02.789578\n"
     ]
    },
    {
     "name": "stderr",
     "output_type": "stream",
     "text": [
      "100%|████████████████████████████████████████████████████████████████████████████████████| 4/4 [02:39<00:00, 39.93s/it]\n"
     ]
    },
    {
     "name": "stdout",
     "output_type": "stream",
     "text": [
      "train Loss: 0.0159 Acc: 1.0000\n"
     ]
    },
    {
     "name": "stderr",
     "output_type": "stream",
     "text": [
      "100%|████████████████████████████████████████████████████████████████████████████████████| 3/3 [00:42<00:00, 14.19s/it]\n"
     ]
    },
    {
     "name": "stdout",
     "output_type": "stream",
     "text": [
      "val Loss: 27.1092 Acc: 0.1744\n",
      "\n",
      "Epoch 17/69\n",
      "----------\n",
      "2025-03-05 22:11:25.102567\n"
     ]
    },
    {
     "name": "stderr",
     "output_type": "stream",
     "text": [
      "100%|████████████████████████████████████████████████████████████████████████████████████| 4/4 [02:27<00:00, 36.95s/it]\n"
     ]
    },
    {
     "name": "stdout",
     "output_type": "stream",
     "text": [
      "train Loss: 0.0093 Acc: 1.0000\n"
     ]
    },
    {
     "name": "stderr",
     "output_type": "stream",
     "text": [
      "100%|████████████████████████████████████████████████████████████████████████████████████| 3/3 [00:44<00:00, 14.85s/it]\n"
     ]
    },
    {
     "name": "stdout",
     "output_type": "stream",
     "text": [
      "val Loss: 24.1238 Acc: 0.1860\n",
      "\n",
      "Epoch 18/69\n",
      "----------\n",
      "2025-03-05 22:14:37.445155\n"
     ]
    },
    {
     "name": "stderr",
     "output_type": "stream",
     "text": [
      "100%|████████████████████████████████████████████████████████████████████████████████████| 4/4 [02:37<00:00, 39.33s/it]\n"
     ]
    },
    {
     "name": "stdout",
     "output_type": "stream",
     "text": [
      "train Loss: 0.0337 Acc: 0.9914\n"
     ]
    },
    {
     "name": "stderr",
     "output_type": "stream",
     "text": [
      "100%|████████████████████████████████████████████████████████████████████████████████████| 3/3 [00:44<00:00, 14.95s/it]\n"
     ]
    },
    {
     "name": "stdout",
     "output_type": "stream",
     "text": [
      "val Loss: 21.2133 Acc: 0.1860\n",
      "\n",
      "Epoch 19/69\n",
      "----------\n",
      "2025-03-05 22:17:59.632690\n"
     ]
    },
    {
     "name": "stderr",
     "output_type": "stream",
     "text": [
      "100%|████████████████████████████████████████████████████████████████████████████████████| 4/4 [02:36<00:00, 39.25s/it]\n"
     ]
    },
    {
     "name": "stdout",
     "output_type": "stream",
     "text": [
      "train Loss: 0.0261 Acc: 0.9914\n"
     ]
    },
    {
     "name": "stderr",
     "output_type": "stream",
     "text": [
      "100%|████████████████████████████████████████████████████████████████████████████████████| 3/3 [00:43<00:00, 14.64s/it]\n"
     ]
    },
    {
     "name": "stdout",
     "output_type": "stream",
     "text": [
      "val Loss: 18.6238 Acc: 0.1977\n",
      "\n",
      "Epoch 20/69\n",
      "----------\n",
      "2025-03-05 22:21:20.570108\n"
     ]
    },
    {
     "name": "stderr",
     "output_type": "stream",
     "text": [
      "100%|████████████████████████████████████████████████████████████████████████████████████| 4/4 [02:33<00:00, 38.48s/it]\n"
     ]
    },
    {
     "name": "stdout",
     "output_type": "stream",
     "text": [
      "train Loss: 0.0159 Acc: 1.0000\n"
     ]
    },
    {
     "name": "stderr",
     "output_type": "stream",
     "text": [
      "100%|████████████████████████████████████████████████████████████████████████████████████| 3/3 [00:40<00:00, 13.56s/it]\n"
     ]
    },
    {
     "name": "stdout",
     "output_type": "stream",
     "text": [
      "val Loss: 16.1268 Acc: 0.2209\n",
      "\n",
      "Epoch 21/69\n",
      "----------\n",
      "2025-03-05 22:24:35.179142\n"
     ]
    },
    {
     "name": "stderr",
     "output_type": "stream",
     "text": [
      "100%|████████████████████████████████████████████████████████████████████████████████████| 4/4 [02:40<00:00, 40.20s/it]\n"
     ]
    },
    {
     "name": "stdout",
     "output_type": "stream",
     "text": [
      "train Loss: 0.0069 Acc: 1.0000\n"
     ]
    },
    {
     "name": "stderr",
     "output_type": "stream",
     "text": [
      "100%|████████████████████████████████████████████████████████████████████████████████████| 3/3 [00:45<00:00, 15.15s/it]\n"
     ]
    },
    {
     "name": "stdout",
     "output_type": "stream",
     "text": [
      "val Loss: 13.9331 Acc: 0.2326\n",
      "\n",
      "Epoch 22/69\n",
      "----------\n",
      "2025-03-05 22:28:01.460551\n"
     ]
    },
    {
     "name": "stderr",
     "output_type": "stream",
     "text": [
      "100%|████████████████████████████████████████████████████████████████████████████████████| 4/4 [02:39<00:00, 39.79s/it]\n"
     ]
    },
    {
     "name": "stdout",
     "output_type": "stream",
     "text": [
      "train Loss: 0.0175 Acc: 0.9828\n"
     ]
    },
    {
     "name": "stderr",
     "output_type": "stream",
     "text": [
      "100%|████████████████████████████████████████████████████████████████████████████████████| 3/3 [00:45<00:00, 15.06s/it]\n"
     ]
    },
    {
     "name": "stdout",
     "output_type": "stream",
     "text": [
      "val Loss: 11.8716 Acc: 0.2674\n",
      "\n",
      "Epoch 23/69\n",
      "----------\n",
      "2025-03-05 22:31:25.799475\n"
     ]
    },
    {
     "name": "stderr",
     "output_type": "stream",
     "text": [
      "100%|████████████████████████████████████████████████████████████████████████████████████| 4/4 [02:42<00:00, 40.60s/it]\n"
     ]
    },
    {
     "name": "stdout",
     "output_type": "stream",
     "text": [
      "train Loss: 0.0060 Acc: 1.0000\n"
     ]
    },
    {
     "name": "stderr",
     "output_type": "stream",
     "text": [
      "100%|████████████████████████████████████████████████████████████████████████████████████| 3/3 [00:45<00:00, 15.11s/it]\n"
     ]
    },
    {
     "name": "stdout",
     "output_type": "stream",
     "text": [
      "val Loss: 10.0787 Acc: 0.2907\n",
      "\n",
      "Epoch 24/69\n",
      "----------\n",
      "2025-03-05 22:34:53.578429\n"
     ]
    },
    {
     "name": "stderr",
     "output_type": "stream",
     "text": [
      "100%|████████████████████████████████████████████████████████████████████████████████████| 4/4 [02:43<00:00, 40.79s/it]\n"
     ]
    },
    {
     "name": "stdout",
     "output_type": "stream",
     "text": [
      "train Loss: 0.0095 Acc: 1.0000\n"
     ]
    },
    {
     "name": "stderr",
     "output_type": "stream",
     "text": [
      "100%|████████████████████████████████████████████████████████████████████████████████████| 3/3 [00:46<00:00, 15.44s/it]\n"
     ]
    },
    {
     "name": "stdout",
     "output_type": "stream",
     "text": [
      "val Loss: 8.5453 Acc: 0.3256\n",
      "\n",
      "Epoch 25/69\n",
      "----------\n",
      "2025-03-05 22:38:28.155180\n"
     ]
    },
    {
     "name": "stderr",
     "output_type": "stream",
     "text": [
      "100%|████████████████████████████████████████████████████████████████████████████████████| 4/4 [02:39<00:00, 39.86s/it]\n"
     ]
    },
    {
     "name": "stdout",
     "output_type": "stream",
     "text": [
      "train Loss: 0.0141 Acc: 0.9914\n"
     ]
    },
    {
     "name": "stderr",
     "output_type": "stream",
     "text": [
      "100%|████████████████████████████████████████████████████████████████████████████████████| 3/3 [00:45<00:00, 15.14s/it]\n"
     ]
    },
    {
     "name": "stdout",
     "output_type": "stream",
     "text": [
      "val Loss: 7.2772 Acc: 0.3256\n",
      "\n",
      "Epoch 26/69\n",
      "----------\n",
      "2025-03-05 22:41:53.029566\n"
     ]
    },
    {
     "name": "stderr",
     "output_type": "stream",
     "text": [
      "100%|████████████████████████████████████████████████████████████████████████████████████| 4/4 [02:45<00:00, 41.38s/it]\n"
     ]
    },
    {
     "name": "stdout",
     "output_type": "stream",
     "text": [
      "train Loss: 0.0135 Acc: 1.0000\n"
     ]
    },
    {
     "name": "stderr",
     "output_type": "stream",
     "text": [
      "100%|████████████████████████████████████████████████████████████████████████████████████| 3/3 [00:45<00:00, 15.05s/it]\n"
     ]
    },
    {
     "name": "stdout",
     "output_type": "stream",
     "text": [
      "val Loss: 6.1906 Acc: 0.3256\n",
      "\n",
      "Epoch 27/69\n",
      "----------\n",
      "2025-03-05 22:45:23.701448\n"
     ]
    },
    {
     "name": "stderr",
     "output_type": "stream",
     "text": [
      "100%|████████████████████████████████████████████████████████████████████████████████████| 4/4 [02:41<00:00, 40.41s/it]\n"
     ]
    },
    {
     "name": "stdout",
     "output_type": "stream",
     "text": [
      "train Loss: 0.0234 Acc: 1.0000\n"
     ]
    },
    {
     "name": "stderr",
     "output_type": "stream",
     "text": [
      "100%|████████████████████████████████████████████████████████████████████████████████████| 3/3 [00:44<00:00, 14.96s/it]\n"
     ]
    },
    {
     "name": "stdout",
     "output_type": "stream",
     "text": [
      "val Loss: 5.3220 Acc: 0.3372\n",
      "\n",
      "Epoch 28/69\n",
      "----------\n",
      "2025-03-05 22:48:55.061038\n"
     ]
    },
    {
     "name": "stderr",
     "output_type": "stream",
     "text": [
      "100%|████████████████████████████████████████████████████████████████████████████████████| 4/4 [02:41<00:00, 40.31s/it]\n"
     ]
    },
    {
     "name": "stdout",
     "output_type": "stream",
     "text": [
      "train Loss: 0.0453 Acc: 0.9914\n"
     ]
    },
    {
     "name": "stderr",
     "output_type": "stream",
     "text": [
      "100%|████████████████████████████████████████████████████████████████████████████████████| 3/3 [00:45<00:00, 15.02s/it]\n"
     ]
    },
    {
     "name": "stdout",
     "output_type": "stream",
     "text": [
      "val Loss: 4.6417 Acc: 0.3837\n",
      "\n",
      "Epoch 29/69\n",
      "----------\n",
      "2025-03-05 22:52:26.295066\n"
     ]
    },
    {
     "name": "stderr",
     "output_type": "stream",
     "text": [
      "100%|████████████████████████████████████████████████████████████████████████████████████| 4/4 [02:43<00:00, 40.82s/it]\n"
     ]
    },
    {
     "name": "stdout",
     "output_type": "stream",
     "text": [
      "train Loss: 0.1426 Acc: 0.9483\n"
     ]
    },
    {
     "name": "stderr",
     "output_type": "stream",
     "text": [
      "100%|████████████████████████████████████████████████████████████████████████████████████| 3/3 [00:44<00:00, 14.97s/it]\n"
     ]
    },
    {
     "name": "stdout",
     "output_type": "stream",
     "text": [
      "val Loss: 4.0635 Acc: 0.3837\n",
      "\n",
      "Epoch 30/69\n",
      "----------\n",
      "2025-03-05 22:55:54.498446\n"
     ]
    },
    {
     "name": "stderr",
     "output_type": "stream",
     "text": [
      "100%|████████████████████████████████████████████████████████████████████████████████████| 4/4 [02:42<00:00, 40.68s/it]\n"
     ]
    },
    {
     "name": "stdout",
     "output_type": "stream",
     "text": [
      "train Loss: 0.0088 Acc: 1.0000\n"
     ]
    },
    {
     "name": "stderr",
     "output_type": "stream",
     "text": [
      "100%|████████████████████████████████████████████████████████████████████████████████████| 3/3 [00:45<00:00, 15.06s/it]\n"
     ]
    },
    {
     "name": "stdout",
     "output_type": "stream",
     "text": [
      "val Loss: 3.5843 Acc: 0.4186\n",
      "\n",
      "Epoch 31/69\n",
      "----------\n",
      "2025-03-05 22:59:27.529815\n"
     ]
    },
    {
     "name": "stderr",
     "output_type": "stream",
     "text": [
      "100%|████████████████████████████████████████████████████████████████████████████████████| 4/4 [02:38<00:00, 39.69s/it]\n"
     ]
    },
    {
     "name": "stdout",
     "output_type": "stream",
     "text": [
      "train Loss: 0.0095 Acc: 1.0000\n"
     ]
    },
    {
     "name": "stderr",
     "output_type": "stream",
     "text": [
      "100%|████████████████████████████████████████████████████████████████████████████████████| 3/3 [00:44<00:00, 14.70s/it]\n"
     ]
    },
    {
     "name": "stdout",
     "output_type": "stream",
     "text": [
      "val Loss: 3.1381 Acc: 0.4535\n",
      "\n",
      "Epoch 32/69\n",
      "----------\n",
      "2025-03-05 23:02:55.374393\n"
     ]
    },
    {
     "name": "stderr",
     "output_type": "stream",
     "text": [
      "100%|████████████████████████████████████████████████████████████████████████████████████| 4/4 [02:45<00:00, 41.25s/it]\n"
     ]
    },
    {
     "name": "stdout",
     "output_type": "stream",
     "text": [
      "train Loss: 0.0125 Acc: 1.0000\n"
     ]
    },
    {
     "name": "stderr",
     "output_type": "stream",
     "text": [
      "100%|████████████████████████████████████████████████████████████████████████████████████| 3/3 [00:45<00:00, 15.01s/it]\n"
     ]
    },
    {
     "name": "stdout",
     "output_type": "stream",
     "text": [
      "val Loss: 2.7680 Acc: 0.4535\n",
      "\n",
      "Epoch 33/69\n",
      "----------\n",
      "2025-03-05 23:06:25.441791\n"
     ]
    },
    {
     "name": "stderr",
     "output_type": "stream",
     "text": [
      "100%|████████████████████████████████████████████████████████████████████████████████████| 4/4 [02:37<00:00, 39.34s/it]\n"
     ]
    },
    {
     "name": "stdout",
     "output_type": "stream",
     "text": [
      "train Loss: 0.0071 Acc: 1.0000\n"
     ]
    },
    {
     "name": "stderr",
     "output_type": "stream",
     "text": [
      "100%|████████████████████████████████████████████████████████████████████████████████████| 3/3 [00:45<00:00, 15.30s/it]\n"
     ]
    },
    {
     "name": "stdout",
     "output_type": "stream",
     "text": [
      "val Loss: 2.4483 Acc: 0.4884\n",
      "\n",
      "Epoch 34/69\n",
      "----------\n",
      "2025-03-05 23:09:54.116048\n"
     ]
    },
    {
     "name": "stderr",
     "output_type": "stream",
     "text": [
      "100%|████████████████████████████████████████████████████████████████████████████████████| 4/4 [02:46<00:00, 41.67s/it]\n"
     ]
    },
    {
     "name": "stdout",
     "output_type": "stream",
     "text": [
      "train Loss: 0.0065 Acc: 1.0000\n"
     ]
    },
    {
     "name": "stderr",
     "output_type": "stream",
     "text": [
      "100%|████████████████████████████████████████████████████████████████████████████████████| 3/3 [00:41<00:00, 13.88s/it]\n"
     ]
    },
    {
     "name": "stdout",
     "output_type": "stream",
     "text": [
      "val Loss: 2.1626 Acc: 0.5116\n",
      "\n",
      "Epoch 35/69\n",
      "----------\n",
      "2025-03-05 23:13:27.476538\n"
     ]
    },
    {
     "name": "stderr",
     "output_type": "stream",
     "text": [
      "100%|████████████████████████████████████████████████████████████████████████████████████| 4/4 [02:31<00:00, 37.92s/it]\n"
     ]
    },
    {
     "name": "stdout",
     "output_type": "stream",
     "text": [
      "train Loss: 0.0087 Acc: 1.0000\n"
     ]
    },
    {
     "name": "stderr",
     "output_type": "stream",
     "text": [
      "100%|████████████████████████████████████████████████████████████████████████████████████| 3/3 [00:46<00:00, 15.35s/it]\n"
     ]
    },
    {
     "name": "stdout",
     "output_type": "stream",
     "text": [
      "val Loss: 1.9101 Acc: 0.5233\n",
      "\n",
      "Epoch 36/69\n",
      "----------\n",
      "2025-03-05 23:16:50.351974\n"
     ]
    },
    {
     "name": "stderr",
     "output_type": "stream",
     "text": [
      "100%|████████████████████████████████████████████████████████████████████████████████████| 4/4 [02:42<00:00, 40.50s/it]\n"
     ]
    },
    {
     "name": "stdout",
     "output_type": "stream",
     "text": [
      "train Loss: 0.0168 Acc: 1.0000\n"
     ]
    },
    {
     "name": "stderr",
     "output_type": "stream",
     "text": [
      "100%|████████████████████████████████████████████████████████████████████████████████████| 3/3 [00:44<00:00, 14.91s/it]\n"
     ]
    },
    {
     "name": "stdout",
     "output_type": "stream",
     "text": [
      "val Loss: 1.6828 Acc: 0.5465\n",
      "\n",
      "Epoch 37/69\n",
      "----------\n",
      "2025-03-05 23:20:22.430437\n"
     ]
    },
    {
     "name": "stderr",
     "output_type": "stream",
     "text": [
      "100%|████████████████████████████████████████████████████████████████████████████████████| 4/4 [02:42<00:00, 40.60s/it]\n"
     ]
    },
    {
     "name": "stdout",
     "output_type": "stream",
     "text": [
      "train Loss: 0.0281 Acc: 1.0000\n"
     ]
    },
    {
     "name": "stderr",
     "output_type": "stream",
     "text": [
      "100%|████████████████████████████████████████████████████████████████████████████████████| 3/3 [00:45<00:00, 15.15s/it]\n"
     ]
    },
    {
     "name": "stdout",
     "output_type": "stream",
     "text": [
      "val Loss: 1.4705 Acc: 0.5814\n",
      "\n",
      "Epoch 38/69\n",
      "----------\n",
      "2025-03-05 23:23:55.290176\n"
     ]
    },
    {
     "name": "stderr",
     "output_type": "stream",
     "text": [
      "100%|████████████████████████████████████████████████████████████████████████████████████| 4/4 [02:42<00:00, 40.75s/it]\n"
     ]
    },
    {
     "name": "stdout",
     "output_type": "stream",
     "text": [
      "train Loss: 0.0095 Acc: 1.0000\n"
     ]
    },
    {
     "name": "stderr",
     "output_type": "stream",
     "text": [
      "100%|████████████████████████████████████████████████████████████████████████████████████| 3/3 [00:44<00:00, 15.00s/it]\n"
     ]
    },
    {
     "name": "stdout",
     "output_type": "stream",
     "text": [
      "val Loss: 1.2940 Acc: 0.5814\n",
      "\n",
      "Epoch 39/69\n",
      "----------\n",
      "2025-03-05 23:27:23.275011\n"
     ]
    },
    {
     "name": "stderr",
     "output_type": "stream",
     "text": [
      "100%|████████████████████████████████████████████████████████████████████████████████████| 4/4 [02:40<00:00, 40.08s/it]\n"
     ]
    },
    {
     "name": "stdout",
     "output_type": "stream",
     "text": [
      "train Loss: 0.0184 Acc: 1.0000\n"
     ]
    },
    {
     "name": "stderr",
     "output_type": "stream",
     "text": [
      "100%|████████████████████████████████████████████████████████████████████████████████████| 3/3 [00:45<00:00, 15.16s/it]\n"
     ]
    },
    {
     "name": "stdout",
     "output_type": "stream",
     "text": [
      "val Loss: 1.1280 Acc: 0.6279\n",
      "\n",
      "Epoch 40/69\n",
      "----------\n",
      "2025-03-05 23:30:53.962563\n"
     ]
    },
    {
     "name": "stderr",
     "output_type": "stream",
     "text": [
      "100%|████████████████████████████████████████████████████████████████████████████████████| 4/4 [02:46<00:00, 41.51s/it]\n"
     ]
    },
    {
     "name": "stdout",
     "output_type": "stream",
     "text": [
      "train Loss: 0.0094 Acc: 1.0000\n"
     ]
    },
    {
     "name": "stderr",
     "output_type": "stream",
     "text": [
      "100%|████████████████████████████████████████████████████████████████████████████████████| 3/3 [00:45<00:00, 15.29s/it]\n"
     ]
    },
    {
     "name": "stdout",
     "output_type": "stream",
     "text": [
      "val Loss: 0.9793 Acc: 0.6977\n",
      "\n",
      "Epoch 41/69\n",
      "----------\n",
      "2025-03-05 23:34:30.712735\n"
     ]
    },
    {
     "name": "stderr",
     "output_type": "stream",
     "text": [
      "100%|████████████████████████████████████████████████████████████████████████████████████| 4/4 [02:26<00:00, 36.70s/it]\n"
     ]
    },
    {
     "name": "stdout",
     "output_type": "stream",
     "text": [
      "train Loss: 0.0097 Acc: 1.0000\n"
     ]
    },
    {
     "name": "stderr",
     "output_type": "stream",
     "text": [
      "100%|████████████████████████████████████████████████████████████████████████████████████| 3/3 [00:45<00:00, 15.00s/it]\n"
     ]
    },
    {
     "name": "stdout",
     "output_type": "stream",
     "text": [
      "val Loss: 0.8444 Acc: 0.6977\n",
      "\n",
      "Epoch 42/69\n",
      "----------\n",
      "2025-03-05 23:37:42.568985\n"
     ]
    },
    {
     "name": "stderr",
     "output_type": "stream",
     "text": [
      "100%|████████████████████████████████████████████████████████████████████████████████████| 4/4 [02:47<00:00, 41.94s/it]\n"
     ]
    },
    {
     "name": "stdout",
     "output_type": "stream",
     "text": [
      "train Loss: 0.0466 Acc: 0.9914\n"
     ]
    },
    {
     "name": "stderr",
     "output_type": "stream",
     "text": [
      "100%|████████████████████████████████████████████████████████████████████████████████████| 3/3 [00:45<00:00, 15.22s/it]\n"
     ]
    },
    {
     "name": "stdout",
     "output_type": "stream",
     "text": [
      "val Loss: 0.7294 Acc: 0.7209\n",
      "\n",
      "Epoch 43/69\n",
      "----------\n",
      "2025-03-05 23:41:21.298320\n"
     ]
    },
    {
     "name": "stderr",
     "output_type": "stream",
     "text": [
      "100%|████████████████████████████████████████████████████████████████████████████████████| 4/4 [02:44<00:00, 41.04s/it]\n"
     ]
    },
    {
     "name": "stdout",
     "output_type": "stream",
     "text": [
      "train Loss: 0.0151 Acc: 1.0000\n"
     ]
    },
    {
     "name": "stderr",
     "output_type": "stream",
     "text": [
      "100%|████████████████████████████████████████████████████████████████████████████████████| 3/3 [00:44<00:00, 14.82s/it]\n"
     ]
    },
    {
     "name": "stdout",
     "output_type": "stream",
     "text": [
      "val Loss: 0.6335 Acc: 0.7558\n",
      "\n",
      "Epoch 44/69\n",
      "----------\n",
      "2025-03-05 23:44:54.952694\n"
     ]
    },
    {
     "name": "stderr",
     "output_type": "stream",
     "text": [
      "100%|████████████████████████████████████████████████████████████████████████████████████| 4/4 [02:34<00:00, 38.52s/it]\n"
     ]
    },
    {
     "name": "stdout",
     "output_type": "stream",
     "text": [
      "train Loss: 0.0220 Acc: 1.0000\n"
     ]
    },
    {
     "name": "stderr",
     "output_type": "stream",
     "text": [
      "100%|████████████████████████████████████████████████████████████████████████████████████| 3/3 [00:40<00:00, 13.48s/it]\n"
     ]
    },
    {
     "name": "stdout",
     "output_type": "stream",
     "text": [
      "val Loss: 0.5522 Acc: 0.7907\n",
      "\n",
      "Epoch 45/69\n",
      "----------\n",
      "2025-03-05 23:48:14.436157\n"
     ]
    },
    {
     "name": "stderr",
     "output_type": "stream",
     "text": [
      "100%|████████████████████████████████████████████████████████████████████████████████████| 4/4 [02:45<00:00, 41.39s/it]\n"
     ]
    },
    {
     "name": "stdout",
     "output_type": "stream",
     "text": [
      "train Loss: 0.0040 Acc: 1.0000\n"
     ]
    },
    {
     "name": "stderr",
     "output_type": "stream",
     "text": [
      "100%|████████████████████████████████████████████████████████████████████████████████████| 3/3 [00:45<00:00, 15.19s/it]\n"
     ]
    },
    {
     "name": "stdout",
     "output_type": "stream",
     "text": [
      "val Loss: 0.4771 Acc: 0.7907\n",
      "\n",
      "Epoch 46/69\n",
      "----------\n",
      "2025-03-05 23:51:45.591817\n"
     ]
    },
    {
     "name": "stderr",
     "output_type": "stream",
     "text": [
      "100%|████████████████████████████████████████████████████████████████████████████████████| 4/4 [02:38<00:00, 39.53s/it]\n"
     ]
    },
    {
     "name": "stdout",
     "output_type": "stream",
     "text": [
      "train Loss: 0.0184 Acc: 1.0000\n"
     ]
    },
    {
     "name": "stderr",
     "output_type": "stream",
     "text": [
      "100%|████████████████████████████████████████████████████████████████████████████████████| 3/3 [00:45<00:00, 15.06s/it]\n"
     ]
    },
    {
     "name": "stdout",
     "output_type": "stream",
     "text": [
      "val Loss: 0.4020 Acc: 0.8140\n",
      "\n",
      "Epoch 47/69\n",
      "----------\n",
      "2025-03-05 23:55:14.076477\n"
     ]
    },
    {
     "name": "stderr",
     "output_type": "stream",
     "text": [
      "100%|████████████████████████████████████████████████████████████████████████████████████| 4/4 [02:38<00:00, 39.66s/it]\n"
     ]
    },
    {
     "name": "stdout",
     "output_type": "stream",
     "text": [
      "train Loss: 0.0426 Acc: 1.0000\n"
     ]
    },
    {
     "name": "stderr",
     "output_type": "stream",
     "text": [
      "100%|████████████████████████████████████████████████████████████████████████████████████| 3/3 [00:44<00:00, 14.93s/it]\n"
     ]
    },
    {
     "name": "stdout",
     "output_type": "stream",
     "text": [
      "val Loss: 0.3473 Acc: 0.8488\n",
      "\n",
      "Epoch 48/69\n",
      "----------\n",
      "2025-03-05 23:58:42.388891\n"
     ]
    },
    {
     "name": "stderr",
     "output_type": "stream",
     "text": [
      "100%|████████████████████████████████████████████████████████████████████████████████████| 4/4 [02:42<00:00, 40.64s/it]\n"
     ]
    },
    {
     "name": "stdout",
     "output_type": "stream",
     "text": [
      "train Loss: 0.0108 Acc: 1.0000\n"
     ]
    },
    {
     "name": "stderr",
     "output_type": "stream",
     "text": [
      "100%|████████████████████████████████████████████████████████████████████████████████████| 3/3 [00:45<00:00, 15.08s/it]\n"
     ]
    },
    {
     "name": "stdout",
     "output_type": "stream",
     "text": [
      "val Loss: 0.2996 Acc: 0.8721\n",
      "\n",
      "Epoch 49/69\n",
      "----------\n",
      "2025-03-06 00:02:14.967124\n"
     ]
    },
    {
     "name": "stderr",
     "output_type": "stream",
     "text": [
      "100%|████████████████████████████████████████████████████████████████████████████████████| 4/4 [02:42<00:00, 40.52s/it]\n"
     ]
    },
    {
     "name": "stdout",
     "output_type": "stream",
     "text": [
      "train Loss: 0.0064 Acc: 1.0000\n"
     ]
    },
    {
     "name": "stderr",
     "output_type": "stream",
     "text": [
      "100%|████████████████████████████████████████████████████████████████████████████████████| 3/3 [00:45<00:00, 15.20s/it]\n"
     ]
    },
    {
     "name": "stdout",
     "output_type": "stream",
     "text": [
      "val Loss: 0.2559 Acc: 0.8837\n",
      "\n",
      "Epoch 50/69\n",
      "----------\n",
      "2025-03-06 00:05:47.560870\n"
     ]
    },
    {
     "name": "stderr",
     "output_type": "stream",
     "text": [
      "100%|████████████████████████████████████████████████████████████████████████████████████| 4/4 [02:42<00:00, 40.70s/it]\n"
     ]
    },
    {
     "name": "stdout",
     "output_type": "stream",
     "text": [
      "train Loss: 0.0048 Acc: 1.0000\n"
     ]
    },
    {
     "name": "stderr",
     "output_type": "stream",
     "text": [
      "100%|████████████████████████████████████████████████████████████████████████████████████| 3/3 [00:45<00:00, 15.02s/it]\n"
     ]
    },
    {
     "name": "stdout",
     "output_type": "stream",
     "text": [
      "val Loss: 0.2193 Acc: 0.8953\n",
      "\n",
      "Epoch 51/69\n",
      "----------\n",
      "2025-03-06 00:09:20.357792\n"
     ]
    },
    {
     "name": "stderr",
     "output_type": "stream",
     "text": [
      "100%|████████████████████████████████████████████████████████████████████████████████████| 4/4 [02:46<00:00, 41.57s/it]\n"
     ]
    },
    {
     "name": "stdout",
     "output_type": "stream",
     "text": [
      "train Loss: 0.0047 Acc: 1.0000\n"
     ]
    },
    {
     "name": "stderr",
     "output_type": "stream",
     "text": [
      "100%|████████████████████████████████████████████████████████████████████████████████████| 3/3 [00:45<00:00, 15.28s/it]\n"
     ]
    },
    {
     "name": "stdout",
     "output_type": "stream",
     "text": [
      "val Loss: 0.1892 Acc: 0.9186\n",
      "\n",
      "Epoch 52/69\n",
      "----------\n",
      "2025-03-06 00:12:57.217193\n"
     ]
    },
    {
     "name": "stderr",
     "output_type": "stream",
     "text": [
      "100%|████████████████████████████████████████████████████████████████████████████████████| 4/4 [02:26<00:00, 36.61s/it]\n"
     ]
    },
    {
     "name": "stdout",
     "output_type": "stream",
     "text": [
      "train Loss: 0.0038 Acc: 1.0000\n"
     ]
    },
    {
     "name": "stderr",
     "output_type": "stream",
     "text": [
      "100%|████████████████████████████████████████████████████████████████████████████████████| 3/3 [00:43<00:00, 14.58s/it]\n"
     ]
    },
    {
     "name": "stdout",
     "output_type": "stream",
     "text": [
      "val Loss: 0.1634 Acc: 0.9302\n",
      "\n",
      "Epoch 53/69\n",
      "----------\n",
      "2025-03-06 00:16:12.576530\n"
     ]
    },
    {
     "name": "stderr",
     "output_type": "stream",
     "text": [
      "100%|████████████████████████████████████████████████████████████████████████████████████| 4/4 [02:28<00:00, 37.04s/it]\n"
     ]
    },
    {
     "name": "stdout",
     "output_type": "stream",
     "text": [
      "train Loss: 0.0109 Acc: 1.0000\n"
     ]
    },
    {
     "name": "stderr",
     "output_type": "stream",
     "text": [
      "100%|████████████████████████████████████████████████████████████████████████████████████| 3/3 [00:42<00:00, 14.14s/it]\n"
     ]
    },
    {
     "name": "stdout",
     "output_type": "stream",
     "text": [
      "val Loss: 0.1411 Acc: 0.9302\n",
      "\n",
      "Epoch 54/69\n",
      "----------\n",
      "2025-03-06 00:19:23.170438\n"
     ]
    },
    {
     "name": "stderr",
     "output_type": "stream",
     "text": [
      "100%|████████████████████████████████████████████████████████████████████████████████████| 4/4 [02:32<00:00, 38.05s/it]\n"
     ]
    },
    {
     "name": "stdout",
     "output_type": "stream",
     "text": [
      "train Loss: 0.0242 Acc: 1.0000\n"
     ]
    },
    {
     "name": "stderr",
     "output_type": "stream",
     "text": [
      "100%|████████████████████████████████████████████████████████████████████████████████████| 3/3 [00:40<00:00, 13.46s/it]\n"
     ]
    },
    {
     "name": "stdout",
     "output_type": "stream",
     "text": [
      "val Loss: 0.1239 Acc: 0.9302\n",
      "\n",
      "Epoch 55/69\n",
      "----------\n",
      "2025-03-06 00:22:35.795458\n"
     ]
    },
    {
     "name": "stderr",
     "output_type": "stream",
     "text": [
      "100%|████████████████████████████████████████████████████████████████████████████████████| 4/4 [02:26<00:00, 36.57s/it]\n"
     ]
    },
    {
     "name": "stdout",
     "output_type": "stream",
     "text": [
      "train Loss: 0.0122 Acc: 1.0000\n"
     ]
    },
    {
     "name": "stderr",
     "output_type": "stream",
     "text": [
      "100%|████████████████████████████████████████████████████████████████████████████████████| 3/3 [00:40<00:00, 13.37s/it]\n"
     ]
    },
    {
     "name": "stdout",
     "output_type": "stream",
     "text": [
      "val Loss: 0.1098 Acc: 0.9535\n",
      "\n",
      "Epoch 56/69\n",
      "----------\n",
      "2025-03-06 00:25:47.279766\n"
     ]
    },
    {
     "name": "stderr",
     "output_type": "stream",
     "text": [
      "100%|████████████████████████████████████████████████████████████████████████████████████| 4/4 [02:28<00:00, 37.11s/it]\n"
     ]
    },
    {
     "name": "stdout",
     "output_type": "stream",
     "text": [
      "train Loss: 0.0059 Acc: 1.0000\n"
     ]
    },
    {
     "name": "stderr",
     "output_type": "stream",
     "text": [
      "100%|████████████████████████████████████████████████████████████████████████████████████| 3/3 [00:40<00:00, 13.56s/it]\n"
     ]
    },
    {
     "name": "stdout",
     "output_type": "stream",
     "text": [
      "val Loss: 0.0979 Acc: 0.9535\n",
      "\n",
      "Epoch 57/69\n",
      "----------\n",
      "2025-03-06 00:28:56.407187\n"
     ]
    },
    {
     "name": "stderr",
     "output_type": "stream",
     "text": [
      "100%|████████████████████████████████████████████████████████████████████████████████████| 4/4 [02:30<00:00, 37.61s/it]\n"
     ]
    },
    {
     "name": "stdout",
     "output_type": "stream",
     "text": [
      "train Loss: 0.0241 Acc: 0.9914\n"
     ]
    },
    {
     "name": "stderr",
     "output_type": "stream",
     "text": [
      "100%|████████████████████████████████████████████████████████████████████████████████████| 3/3 [00:40<00:00, 13.54s/it]\n"
     ]
    },
    {
     "name": "stdout",
     "output_type": "stream",
     "text": [
      "val Loss: 0.0884 Acc: 0.9651\n",
      "\n",
      "Epoch 58/69\n",
      "----------\n",
      "2025-03-06 00:32:14.223351\n"
     ]
    },
    {
     "name": "stderr",
     "output_type": "stream",
     "text": [
      "100%|████████████████████████████████████████████████████████████████████████████████████| 4/4 [02:33<00:00, 38.40s/it]\n"
     ]
    },
    {
     "name": "stdout",
     "output_type": "stream",
     "text": [
      "train Loss: 0.0104 Acc: 1.0000\n"
     ]
    },
    {
     "name": "stderr",
     "output_type": "stream",
     "text": [
      "100%|████████████████████████████████████████████████████████████████████████████████████| 3/3 [00:51<00:00, 17.07s/it]\n"
     ]
    },
    {
     "name": "stdout",
     "output_type": "stream",
     "text": [
      "val Loss: 0.0800 Acc: 0.9651\n",
      "\n",
      "Epoch 59/69\n",
      "----------\n",
      "2025-03-06 00:35:39.068950\n"
     ]
    },
    {
     "name": "stderr",
     "output_type": "stream",
     "text": [
      "100%|████████████████████████████████████████████████████████████████████████████████████| 4/4 [02:32<00:00, 38.14s/it]\n"
     ]
    },
    {
     "name": "stdout",
     "output_type": "stream",
     "text": [
      "train Loss: 0.0237 Acc: 0.9914\n"
     ]
    },
    {
     "name": "stderr",
     "output_type": "stream",
     "text": [
      "100%|████████████████████████████████████████████████████████████████████████████████████| 3/3 [00:45<00:00, 15.21s/it]\n"
     ]
    },
    {
     "name": "stdout",
     "output_type": "stream",
     "text": [
      "val Loss: 0.0732 Acc: 0.9651\n",
      "\n",
      "Epoch 60/69\n",
      "----------\n",
      "2025-03-06 00:38:57.272855\n"
     ]
    },
    {
     "name": "stderr",
     "output_type": "stream",
     "text": [
      "100%|████████████████████████████████████████████████████████████████████████████████████| 4/4 [02:43<00:00, 40.90s/it]\n"
     ]
    },
    {
     "name": "stdout",
     "output_type": "stream",
     "text": [
      "train Loss: 0.0095 Acc: 1.0000\n"
     ]
    },
    {
     "name": "stderr",
     "output_type": "stream",
     "text": [
      "100%|████████████████████████████████████████████████████████████████████████████████████| 3/3 [00:44<00:00, 14.99s/it]\n"
     ]
    },
    {
     "name": "stdout",
     "output_type": "stream",
     "text": [
      "val Loss: 0.0676 Acc: 0.9651\n",
      "\n",
      "Epoch 61/69\n",
      "----------\n",
      "2025-03-06 00:42:25.851321\n"
     ]
    },
    {
     "name": "stderr",
     "output_type": "stream",
     "text": [
      "100%|████████████████████████████████████████████████████████████████████████████████████| 4/4 [02:40<00:00, 40.22s/it]\n"
     ]
    },
    {
     "name": "stdout",
     "output_type": "stream",
     "text": [
      "train Loss: 0.0248 Acc: 1.0000\n"
     ]
    },
    {
     "name": "stderr",
     "output_type": "stream",
     "text": [
      "100%|████████████████████████████████████████████████████████████████████████████████████| 3/3 [00:44<00:00, 14.68s/it]\n"
     ]
    },
    {
     "name": "stdout",
     "output_type": "stream",
     "text": [
      "val Loss: 0.0624 Acc: 0.9767\n",
      "\n",
      "Epoch 62/69\n",
      "----------\n",
      "2025-03-06 00:45:56.037709\n"
     ]
    },
    {
     "name": "stderr",
     "output_type": "stream",
     "text": [
      "100%|████████████████████████████████████████████████████████████████████████████████████| 4/4 [02:40<00:00, 40.18s/it]\n"
     ]
    },
    {
     "name": "stdout",
     "output_type": "stream",
     "text": [
      "train Loss: 0.0117 Acc: 1.0000\n"
     ]
    },
    {
     "name": "stderr",
     "output_type": "stream",
     "text": [
      "100%|████████████████████████████████████████████████████████████████████████████████████| 3/3 [00:45<00:00, 15.08s/it]\n"
     ]
    },
    {
     "name": "stdout",
     "output_type": "stream",
     "text": [
      "val Loss: 0.0586 Acc: 0.9767\n",
      "\n",
      "Epoch 63/69\n",
      "----------\n",
      "2025-03-06 00:49:22.035779\n"
     ]
    },
    {
     "name": "stderr",
     "output_type": "stream",
     "text": [
      "100%|████████████████████████████████████████████████████████████████████████████████████| 4/4 [02:45<00:00, 41.31s/it]\n"
     ]
    },
    {
     "name": "stdout",
     "output_type": "stream",
     "text": [
      "train Loss: 0.0188 Acc: 0.9914\n"
     ]
    },
    {
     "name": "stderr",
     "output_type": "stream",
     "text": [
      "100%|████████████████████████████████████████████████████████████████████████████████████| 3/3 [00:44<00:00, 14.87s/it]\n"
     ]
    },
    {
     "name": "stdout",
     "output_type": "stream",
     "text": [
      "val Loss: 0.0548 Acc: 0.9767\n",
      "\n",
      "Epoch 64/69\n",
      "----------\n",
      "2025-03-06 00:52:51.909549\n"
     ]
    },
    {
     "name": "stderr",
     "output_type": "stream",
     "text": [
      "100%|████████████████████████████████████████████████████████████████████████████████████| 4/4 [02:38<00:00, 39.70s/it]\n"
     ]
    },
    {
     "name": "stdout",
     "output_type": "stream",
     "text": [
      "train Loss: 0.0039 Acc: 1.0000\n"
     ]
    },
    {
     "name": "stderr",
     "output_type": "stream",
     "text": [
      "100%|████████████████████████████████████████████████████████████████████████████████████| 3/3 [00:42<00:00, 14.29s/it]\n"
     ]
    },
    {
     "name": "stdout",
     "output_type": "stream",
     "text": [
      "val Loss: 0.0521 Acc: 0.9767\n",
      "\n",
      "Epoch 65/69\n",
      "----------\n",
      "2025-03-06 00:56:13.612476\n"
     ]
    },
    {
     "name": "stderr",
     "output_type": "stream",
     "text": [
      "100%|████████████████████████████████████████████████████████████████████████████████████| 4/4 [02:29<00:00, 37.49s/it]\n"
     ]
    },
    {
     "name": "stdout",
     "output_type": "stream",
     "text": [
      "train Loss: 0.0868 Acc: 0.9741\n"
     ]
    },
    {
     "name": "stderr",
     "output_type": "stream",
     "text": [
      "100%|████████████████████████████████████████████████████████████████████████████████████| 3/3 [00:45<00:00, 15.02s/it]\n"
     ]
    },
    {
     "name": "stdout",
     "output_type": "stream",
     "text": [
      "val Loss: 0.0492 Acc: 0.9767\n",
      "\n",
      "Epoch 66/69\n",
      "----------\n",
      "2025-03-06 00:59:28.659059\n"
     ]
    },
    {
     "name": "stderr",
     "output_type": "stream",
     "text": [
      "100%|████████████████████████████████████████████████████████████████████████████████████| 4/4 [02:43<00:00, 40.95s/it]\n"
     ]
    },
    {
     "name": "stdout",
     "output_type": "stream",
     "text": [
      "train Loss: 0.0067 Acc: 1.0000\n"
     ]
    },
    {
     "name": "stderr",
     "output_type": "stream",
     "text": [
      "100%|████████████████████████████████████████████████████████████████████████████████████| 3/3 [00:44<00:00, 14.93s/it]\n"
     ]
    },
    {
     "name": "stdout",
     "output_type": "stream",
     "text": [
      "val Loss: 0.0470 Acc: 0.9767\n",
      "\n",
      "Epoch 67/69\n",
      "----------\n",
      "2025-03-06 01:02:57.252361\n"
     ]
    },
    {
     "name": "stderr",
     "output_type": "stream",
     "text": [
      "100%|████████████████████████████████████████████████████████████████████████████████████| 4/4 [02:42<00:00, 40.64s/it]\n"
     ]
    },
    {
     "name": "stdout",
     "output_type": "stream",
     "text": [
      "train Loss: 0.0603 Acc: 0.9741\n"
     ]
    },
    {
     "name": "stderr",
     "output_type": "stream",
     "text": [
      "100%|████████████████████████████████████████████████████████████████████████████████████| 3/3 [00:44<00:00, 14.92s/it]\n"
     ]
    },
    {
     "name": "stdout",
     "output_type": "stream",
     "text": [
      "val Loss: 0.0443 Acc: 0.9767\n",
      "\n",
      "Epoch 68/69\n",
      "----------\n",
      "2025-03-06 01:06:24.563669\n"
     ]
    },
    {
     "name": "stderr",
     "output_type": "stream",
     "text": [
      "100%|████████████████████████████████████████████████████████████████████████████████████| 4/4 [02:47<00:00, 41.95s/it]\n"
     ]
    },
    {
     "name": "stdout",
     "output_type": "stream",
     "text": [
      "train Loss: 0.0187 Acc: 1.0000\n"
     ]
    },
    {
     "name": "stderr",
     "output_type": "stream",
     "text": [
      "100%|████████████████████████████████████████████████████████████████████████████████████| 3/3 [00:46<00:00, 15.49s/it]\n"
     ]
    },
    {
     "name": "stdout",
     "output_type": "stream",
     "text": [
      "val Loss: 0.0430 Acc: 0.9767\n",
      "\n",
      "Epoch 69/69\n",
      "----------\n",
      "2025-03-06 01:09:58.813100\n"
     ]
    },
    {
     "name": "stderr",
     "output_type": "stream",
     "text": [
      "100%|████████████████████████████████████████████████████████████████████████████████████| 4/4 [02:45<00:00, 41.33s/it]\n"
     ]
    },
    {
     "name": "stdout",
     "output_type": "stream",
     "text": [
      "train Loss: 0.0129 Acc: 1.0000\n"
     ]
    },
    {
     "name": "stderr",
     "output_type": "stream",
     "text": [
      "100%|████████████████████████████████████████████████████████████████████████████████████| 3/3 [00:46<00:00, 15.39s/it]\n"
     ]
    },
    {
     "name": "stdout",
     "output_type": "stream",
     "text": [
      "val Loss: 0.0416 Acc: 0.9884\n",
      "\n",
      "Training complete in 238m 21s\n",
      "Best val Acc: 0.988372\n"
     ]
    }
   ],
   "source": [
    "model_ft, train_loss, train_acc, valid_loss, valid_acc = train_model(model_ft, criterion, optimizer_ft, exp_lr_scheduler,\n",
    "                       num_epochs=70)"
   ]
  },
  {
   "cell_type": "code",
   "execution_count": 18,
   "id": "649eaf6a-b9b7-457b-8f5a-dd19d04713c3",
   "metadata": {},
   "outputs": [
    {
     "name": "stdout",
     "output_type": "stream",
     "text": [
      "Test Error: \n",
      " Accuracy: 95.3%\n"
     ]
    }
   ],
   "source": [
    "def test_model(model, loss_fn):\n",
    "    # Set the model to evaluation mode - important for batch normalization and dropout layers\n",
    "    # Unnecessary in this situation but added for best practices\n",
    "    model.eval()\n",
    "    size = len(testds)\n",
    "    correct = 0.0\n",
    "\n",
    "    # Evaluating the model with torch.no_grad() ensures that no gradients are computed during test mode\n",
    "    # also serves to reduce unnecessary gradient computations and memory usage for tensors with requires_grad=True\n",
    "    with torch.no_grad():\n",
    "        for X, y in dataloaders['test']:\n",
    "            X= X.to(device)\n",
    "            outputs = model(X)\n",
    "            _, preds = torch.max(outputs, 1)\n",
    "            # print('===================')\n",
    "            # print(preds)\n",
    "            # print(y.data)\n",
    "            correct += torch.sum(preds == y.data)\n",
    "\n",
    "    correct /= size\n",
    "    print(f\"Test Error: \\n Accuracy: {(100*correct):>0.1f}%\")\n",
    "\n",
    "test_model(model_ft, criterion)"
   ]
  },
  {
   "cell_type": "code",
   "execution_count": null,
   "id": "24c45b59-2806-49ff-8d22-61d70cd4e29b",
   "metadata": {},
   "outputs": [],
   "source": []
  }
 ],
 "metadata": {
  "kernelspec": {
   "display_name": "Python 3 (ipykernel)",
   "language": "python",
   "name": "python3"
  },
  "language_info": {
   "codemirror_mode": {
    "name": "ipython",
    "version": 3
   },
   "file_extension": ".py",
   "mimetype": "text/x-python",
   "name": "python",
   "nbconvert_exporter": "python",
   "pygments_lexer": "ipython3",
   "version": "3.12.3"
  }
 },
 "nbformat": 4,
 "nbformat_minor": 5
}
